{
  "cells": [
    {
      "cell_type": "markdown",
      "metadata": {
        "id": "VnjUAZfT_mwa"
      },
      "source": [
        "## Numpy basics \n"
      ]
    },
    {
      "cell_type": "markdown",
      "metadata": {
        "id": "RVKqmIdJ_mws"
      },
      "source": [
        "### Creating multi-dimensional array (ndarray)"
      ]
    },
    {
      "cell_type": "code",
      "execution_count": null,
      "metadata": {
        "id": "6qL1UMAA_mw2"
      },
      "outputs": [],
      "source": [
        "import numpy as np "
      ]
    },
    {
      "cell_type": "code",
      "execution_count": null,
      "metadata": {
        "id": "OePGYeeb_mw6"
      },
      "outputs": [],
      "source": [
        "mylist = [1,2,3]\n",
        "arr1 = np.array(mylist)"
      ]
    },
    {
      "cell_type": "code",
      "execution_count": null,
      "metadata": {
        "id": "QSl_se6W_mxA",
        "outputId": "ec853692-05b9-489b-ac8f-70496b8510be"
      },
      "outputs": [
        {
          "data": {
            "text/plain": [
              "numpy.ndarray"
            ]
          },
          "execution_count": 3,
          "metadata": {},
          "output_type": "execute_result"
        }
      ],
      "source": [
        "type(arr1)"
      ]
    },
    {
      "cell_type": "code",
      "execution_count": null,
      "metadata": {
        "id": "Ukn7OroT_mxD"
      },
      "outputs": [],
      "source": [
        "mylist2 = [[1,2,3],[5,6,8],[8,7,1]]"
      ]
    },
    {
      "cell_type": "code",
      "execution_count": null,
      "metadata": {
        "id": "n2jHiOS-_mxF"
      },
      "outputs": [],
      "source": [
        "arr2 = np.array(mylist2)"
      ]
    },
    {
      "cell_type": "code",
      "execution_count": null,
      "metadata": {
        "id": "yOtpttLg_mxK",
        "outputId": "da33933e-b7a5-428c-8a7a-cb17d8d056b7"
      },
      "outputs": [
        {
          "data": {
            "text/plain": [
              "array([[1, 2, 3],\n",
              "       [5, 6, 8],\n",
              "       [8, 7, 1]])"
            ]
          },
          "execution_count": 6,
          "metadata": {},
          "output_type": "execute_result"
        }
      ],
      "source": [
        "arr2"
      ]
    },
    {
      "cell_type": "markdown",
      "metadata": {
        "id": "vbo-zW2T_mxR"
      },
      "source": [
        "### Two methods "
      ]
    },
    {
      "cell_type": "code",
      "execution_count": null,
      "metadata": {
        "id": "FmHaUdTR_mxb",
        "outputId": "d341b5c4-aee3-406b-c277-ded8735e927b"
      },
      "outputs": [
        {
          "data": {
            "text/plain": [
              "(3, 3)"
            ]
          },
          "execution_count": 7,
          "metadata": {},
          "output_type": "execute_result"
        }
      ],
      "source": [
        "arr2.shape"
      ]
    },
    {
      "cell_type": "code",
      "execution_count": null,
      "metadata": {
        "id": "jyURzNW8_mxf",
        "outputId": "07513ae2-501b-4989-8988-e5c4917f37da"
      },
      "outputs": [
        {
          "data": {
            "text/plain": [
              "dtype('int32')"
            ]
          },
          "execution_count": 8,
          "metadata": {},
          "output_type": "execute_result"
        }
      ],
      "source": [
        "arr2.dtype"
      ]
    },
    {
      "cell_type": "code",
      "execution_count": null,
      "metadata": {
        "id": "-wYOSPIL_mxj"
      },
      "outputs": [],
      "source": [
        "## Convert datatype \n",
        "arr2 = arr2.astype(np.float64)"
      ]
    },
    {
      "cell_type": "code",
      "execution_count": null,
      "metadata": {
        "id": "wCciP7Y9_mxo",
        "outputId": "dadb7984-9ca7-455a-9140-cf4c2deb8562"
      },
      "outputs": [
        {
          "data": {
            "text/plain": [
              "dtype('float64')"
            ]
          },
          "execution_count": 10,
          "metadata": {},
          "output_type": "execute_result"
        }
      ],
      "source": [
        "arr2.dtype"
      ]
    },
    {
      "cell_type": "markdown",
      "metadata": {
        "id": "NemJ1CqN_mxt"
      },
      "source": [
        "### Other functions to create arrays : \n"
      ]
    },
    {
      "cell_type": "code",
      "execution_count": null,
      "metadata": {
        "id": "8XglqL4c_mxx"
      },
      "outputs": [],
      "source": [
        "arr_zero = np.zeros([3,4],dtype = int )"
      ]
    },
    {
      "cell_type": "code",
      "execution_count": null,
      "metadata": {
        "id": "3gOpfvkv_mx0",
        "outputId": "3bb91ff9-5855-4349-bc04-981717b558d4"
      },
      "outputs": [
        {
          "data": {
            "text/plain": [
              "array([[0, 0, 0, 0],\n",
              "       [0, 0, 0, 0],\n",
              "       [0, 0, 0, 0]])"
            ]
          },
          "execution_count": 12,
          "metadata": {},
          "output_type": "execute_result"
        }
      ],
      "source": [
        "arr_zero"
      ]
    },
    {
      "cell_type": "code",
      "execution_count": null,
      "metadata": {
        "id": "Z7FIha5e_mx3"
      },
      "outputs": [],
      "source": [
        "arr_ones = np.ones([2,5])"
      ]
    },
    {
      "cell_type": "code",
      "execution_count": null,
      "metadata": {
        "id": "DAAdi8EF_mx-",
        "outputId": "e42966db-bea4-4a81-b241-e690e3e082c8"
      },
      "outputs": [
        {
          "data": {
            "text/plain": [
              "array([[1., 1., 1., 1., 1.],\n",
              "       [1., 1., 1., 1., 1.]])"
            ]
          },
          "execution_count": 14,
          "metadata": {},
          "output_type": "execute_result"
        }
      ],
      "source": [
        "arr_ones"
      ]
    },
    {
      "cell_type": "code",
      "execution_count": null,
      "metadata": {
        "id": "m97GvzMP_myG"
      },
      "outputs": [],
      "source": [
        "# empty returns garbage \n",
        "arr_garbage = np.empty([3,4])"
      ]
    },
    {
      "cell_type": "code",
      "execution_count": null,
      "metadata": {
        "id": "ibou2UZw_myI",
        "outputId": "d76173d5-4be2-4869-b85f-eb7dabe12bf0"
      },
      "outputs": [
        {
          "data": {
            "text/plain": [
              "array([[6.e-322, 0.e+000, 0.e+000, 0.e+000],\n",
              "       [0.e+000, 0.e+000, 0.e+000, 0.e+000],\n",
              "       [0.e+000, 0.e+000, 0.e+000, 0.e+000]])"
            ]
          },
          "execution_count": 16,
          "metadata": {},
          "output_type": "execute_result"
        }
      ],
      "source": [
        "arr_garbage "
      ]
    },
    {
      "cell_type": "markdown",
      "metadata": {
        "id": "aK_GbfEC_myK"
      },
      "source": [
        "## Slicing and indexing "
      ]
    },
    {
      "cell_type": "code",
      "execution_count": null,
      "metadata": {
        "id": "x3kjS0Nm_myL"
      },
      "outputs": [],
      "source": [
        "arr = np.array([1,2,3,4,5,6,7,8,9])"
      ]
    },
    {
      "cell_type": "code",
      "execution_count": null,
      "metadata": {
        "id": "dALxVGuI_myN",
        "outputId": "45aad7af-683c-4e19-c9c1-5f7cb2f0525a"
      },
      "outputs": [
        {
          "data": {
            "text/plain": [
              "2"
            ]
          },
          "execution_count": 18,
          "metadata": {},
          "output_type": "execute_result"
        }
      ],
      "source": [
        "arr[1]"
      ]
    },
    {
      "cell_type": "code",
      "execution_count": null,
      "metadata": {
        "id": "R_7oXa_i_myR",
        "outputId": "30f16e5c-a460-4a9e-8980-fe9cb4aedf5b"
      },
      "outputs": [
        {
          "data": {
            "text/plain": [
              "array([2, 3])"
            ]
          },
          "execution_count": 19,
          "metadata": {},
          "output_type": "execute_result"
        }
      ],
      "source": [
        "arr[1:3]"
      ]
    },
    {
      "cell_type": "code",
      "execution_count": null,
      "metadata": {
        "id": "z0yKzRUO_myV",
        "outputId": "dfc1ba43-da81-4c55-ea48-7b0ee1399cf2"
      },
      "outputs": [
        {
          "data": {
            "text/plain": [
              "array([1, 2, 3, 4, 5, 6, 7, 8, 9])"
            ]
          },
          "execution_count": 20,
          "metadata": {},
          "output_type": "execute_result"
        }
      ],
      "source": [
        "arr[:]"
      ]
    },
    {
      "cell_type": "code",
      "execution_count": null,
      "metadata": {
        "id": "KTVSAn6l_myY",
        "outputId": "318bc9d0-5879-45db-a0f4-bff7a55c76e6"
      },
      "outputs": [
        {
          "data": {
            "text/plain": [
              "array([4, 5, 6, 7, 8, 9])"
            ]
          },
          "execution_count": 21,
          "metadata": {},
          "output_type": "execute_result"
        }
      ],
      "source": [
        "arr[3:]"
      ]
    },
    {
      "cell_type": "code",
      "execution_count": null,
      "metadata": {
        "id": "GoC5fAQ3_mya",
        "outputId": "b6e8eaad-ebab-4677-92eb-a1271d6bd7e5"
      },
      "outputs": [
        {
          "data": {
            "text/plain": [
              "array([1, 2, 3, 4, 5, 6])"
            ]
          },
          "execution_count": 22,
          "metadata": {},
          "output_type": "execute_result"
        }
      ],
      "source": [
        "arr[:-3]"
      ]
    },
    {
      "cell_type": "markdown",
      "metadata": {
        "id": "QDSj9QCH_myc"
      },
      "source": [
        "## Assigning data to ndarray"
      ]
    },
    {
      "cell_type": "code",
      "execution_count": null,
      "metadata": {
        "id": "WC0LkcsL_mye"
      },
      "outputs": [],
      "source": [
        "arr[3:] = 20 "
      ]
    },
    {
      "cell_type": "code",
      "execution_count": null,
      "metadata": {
        "id": "nSr6HyJ-_myy",
        "outputId": "01488cb3-e6f0-409b-ff70-bc686c076331"
      },
      "outputs": [
        {
          "data": {
            "text/plain": [
              "array([ 1,  2,  3, 20, 20, 20, 20, 20, 20])"
            ]
          },
          "execution_count": 24,
          "metadata": {},
          "output_type": "execute_result"
        }
      ],
      "source": [
        "arr"
      ]
    },
    {
      "cell_type": "code",
      "execution_count": null,
      "metadata": {
        "id": "oEOY5EoH_my0"
      },
      "outputs": [],
      "source": [
        "sub_arr = arr[2:5] "
      ]
    },
    {
      "cell_type": "code",
      "execution_count": null,
      "metadata": {
        "id": "3HyanMCG_my1",
        "outputId": "790dbac2-6d7d-4706-8a92-e85c07bd2f6e"
      },
      "outputs": [
        {
          "data": {
            "text/plain": [
              "array([ 3, 20, 20])"
            ]
          },
          "execution_count": 26,
          "metadata": {},
          "output_type": "execute_result"
        }
      ],
      "source": [
        "sub_arr"
      ]
    },
    {
      "cell_type": "code",
      "execution_count": null,
      "metadata": {
        "id": "ZO-59yoX_my6"
      },
      "outputs": [],
      "source": [
        "sub_arr[:] = -3 "
      ]
    },
    {
      "cell_type": "code",
      "execution_count": null,
      "metadata": {
        "id": "3XBcEa3l_my-",
        "outputId": "f1bd82d9-1d3e-4898-d954-134a8199b1c6"
      },
      "outputs": [
        {
          "data": {
            "text/plain": [
              "array([-3, -3, -3])"
            ]
          },
          "execution_count": 28,
          "metadata": {},
          "output_type": "execute_result"
        }
      ],
      "source": [
        "sub_arr"
      ]
    },
    {
      "cell_type": "markdown",
      "metadata": {
        "id": "f39XoJ_L_mzB"
      },
      "source": [
        "### Boolean Indexing"
      ]
    },
    {
      "cell_type": "code",
      "execution_count": null,
      "metadata": {
        "id": "sKuAe0ta_mzC"
      },
      "outputs": [],
      "source": [
        "names = np.array(['Bob', 'Joe', 'Will', 'Bob', 'Will', 'Joe', 'Joe'])"
      ]
    },
    {
      "cell_type": "code",
      "execution_count": null,
      "metadata": {
        "id": "-pdJqPed_mzD"
      },
      "outputs": [],
      "source": [
        "data = np.random.randn(7, 4)"
      ]
    },
    {
      "cell_type": "code",
      "execution_count": null,
      "metadata": {
        "id": "AEI5vdFp_mzF",
        "outputId": "3b5b6d8e-5f81-4e23-d43e-ce3a7019dc12"
      },
      "outputs": [
        {
          "data": {
            "text/plain": [
              "array([[ 0.2958862 ,  0.14719788,  1.1340866 , -0.94332092],\n",
              "       [ 0.06610211, -1.6022483 ,  0.74338018,  1.22372339],\n",
              "       [ 0.45493814,  0.21894137,  1.10099468, -0.35863144],\n",
              "       [-0.47641246, -1.04671509,  0.96957883,  0.602887  ],\n",
              "       [ 0.37274621, -0.26781349,  0.96556576, -1.20649573],\n",
              "       [ 1.1583365 ,  0.29284569, -0.24546193, -0.15657117],\n",
              "       [-0.10736187, -0.65790013,  2.14598051,  0.36983691]])"
            ]
          },
          "execution_count": 31,
          "metadata": {},
          "output_type": "execute_result"
        }
      ],
      "source": [
        "data"
      ]
    },
    {
      "cell_type": "code",
      "execution_count": null,
      "metadata": {
        "id": "b4d8y7ST_mzI",
        "outputId": "b4b1f6ea-2827-4e57-e9af-dadaf1a1f28b"
      },
      "outputs": [
        {
          "data": {
            "text/plain": [
              "array([ True, False, False,  True, False, False, False])"
            ]
          },
          "execution_count": 32,
          "metadata": {},
          "output_type": "execute_result"
        }
      ],
      "source": [
        "names == 'Bob'"
      ]
    },
    {
      "cell_type": "code",
      "execution_count": null,
      "metadata": {
        "id": "Cgw1AJ7P_mzL",
        "outputId": "e7fb4d76-dd92-403c-8db6-baf1b9d7f0b2"
      },
      "outputs": [
        {
          "data": {
            "text/plain": [
              "array([[ 0.2958862 ,  0.14719788,  1.1340866 , -0.94332092],\n",
              "       [-0.47641246, -1.04671509,  0.96957883,  0.602887  ]])"
            ]
          },
          "execution_count": 33,
          "metadata": {},
          "output_type": "execute_result"
        }
      ],
      "source": [
        "data [names == 'Bob']"
      ]
    },
    {
      "cell_type": "markdown",
      "metadata": {
        "id": "xrXAXG1B_mzO"
      },
      "source": [
        "### Fancy Indexing "
      ]
    },
    {
      "cell_type": "code",
      "execution_count": null,
      "metadata": {
        "id": "2buIrHMY_mzQ",
        "outputId": "87924bad-f795-4880-d503-babb39d92f06"
      },
      "outputs": [
        {
          "data": {
            "text/plain": [
              "array([ 0.06610211, -1.6022483 ,  0.74338018,  1.22372339])"
            ]
          },
          "execution_count": 34,
          "metadata": {},
          "output_type": "execute_result"
        }
      ],
      "source": [
        "# return row \n",
        "data[1]"
      ]
    },
    {
      "cell_type": "code",
      "execution_count": null,
      "metadata": {
        "id": "fYiuic9v_mzR",
        "outputId": "77233b04-eb18-4664-85d0-a51eb0515337"
      },
      "outputs": [
        {
          "data": {
            "text/plain": [
              "0.45493813868616434"
            ]
          },
          "execution_count": 35,
          "metadata": {},
          "output_type": "execute_result"
        }
      ],
      "source": [
        "# return one element \n",
        "data[2][0]"
      ]
    },
    {
      "cell_type": "code",
      "execution_count": null,
      "metadata": {
        "id": "gVhrfAoi_mzT",
        "outputId": "9065ac62-be04-48c4-c9b7-ab02d261354b"
      },
      "outputs": [
        {
          "data": {
            "text/plain": [
              "array([[ 0.45493814,  0.21894137,  1.10099468, -0.35863144],\n",
              "       [-0.47641246, -1.04671509,  0.96957883,  0.602887  ]])"
            ]
          },
          "execution_count": 36,
          "metadata": {},
          "output_type": "execute_result"
        }
      ],
      "source": [
        "# return multiple rows : pass no of rows in a list \n",
        "data[[2,3]]"
      ]
    },
    {
      "cell_type": "code",
      "execution_count": null,
      "metadata": {
        "id": "ORts23hh_mzV",
        "outputId": "377b9246-cb6d-4440-eade-5f6819aa7e4a"
      },
      "outputs": [
        {
          "data": {
            "text/plain": [
              "array([[ 0.45493814,  0.21894137,  1.10099468, -0.35863144],\n",
              "       [-0.10736187, -0.65790013,  2.14598051,  0.36983691]])"
            ]
          },
          "execution_count": 37,
          "metadata": {},
          "output_type": "execute_result"
        }
      ],
      "source": [
        "# return multiple rows : pass no of rows in a list in the desired order \n",
        "# use negative numbers to return rows from the end \n",
        "data[[-5,-1]]"
      ]
    },
    {
      "cell_type": "code",
      "execution_count": null,
      "metadata": {
        "id": "E27yfgc4_mzY",
        "outputId": "d89c3549-bb98-456e-bc6e-dd4b0b0eafaf"
      },
      "outputs": [
        {
          "data": {
            "text/plain": [
              "array([0.06610211, 0.96957883])"
            ]
          },
          "execution_count": 38,
          "metadata": {},
          "output_type": "execute_result"
        }
      ],
      "source": [
        "# return multiple elements : retrun element of (1,0) and (2,2) \n",
        "data[[1,3],[0,2]]"
      ]
    },
    {
      "cell_type": "markdown",
      "metadata": {
        "id": "D5gbotnP_mzZ"
      },
      "source": [
        "### Transposing and swapping axes : "
      ]
    },
    {
      "cell_type": "code",
      "execution_count": null,
      "metadata": {
        "id": "DBGFR2Gh_mza",
        "outputId": "c8aeacfd-8d21-43b3-8f96-5a0d009c184b"
      },
      "outputs": [
        {
          "data": {
            "text/plain": [
              "array([[ 0.2958862 ,  0.14719788,  1.1340866 , -0.94332092],\n",
              "       [ 0.06610211, -1.6022483 ,  0.74338018,  1.22372339],\n",
              "       [ 0.45493814,  0.21894137,  1.10099468, -0.35863144],\n",
              "       [-0.47641246, -1.04671509,  0.96957883,  0.602887  ],\n",
              "       [ 0.37274621, -0.26781349,  0.96556576, -1.20649573],\n",
              "       [ 1.1583365 ,  0.29284569, -0.24546193, -0.15657117],\n",
              "       [-0.10736187, -0.65790013,  2.14598051,  0.36983691]])"
            ]
          },
          "execution_count": 39,
          "metadata": {},
          "output_type": "execute_result"
        }
      ],
      "source": [
        "data"
      ]
    },
    {
      "cell_type": "code",
      "execution_count": null,
      "metadata": {
        "id": "IB7C3XjT_mzc"
      },
      "outputs": [],
      "source": [
        "data_transpose = data.T"
      ]
    },
    {
      "cell_type": "code",
      "execution_count": null,
      "metadata": {
        "id": "D6ZkPnuk_mzf",
        "outputId": "9a5781f5-ea50-4e7c-be70-37f4647a8fc8"
      },
      "outputs": [
        {
          "data": {
            "text/plain": [
              "(4, 7)"
            ]
          },
          "execution_count": 41,
          "metadata": {},
          "output_type": "execute_result"
        }
      ],
      "source": [
        "data_transpose.shape"
      ]
    },
    {
      "cell_type": "markdown",
      "metadata": {
        "id": "y9LvbSXT_mzk"
      },
      "source": [
        "### Universal Functions: Fast Element-wise Array Functions\n",
        "\n",
        "A universal function, or ufunc, is a function that performs elementwise operations on\n",
        "data in ndarrays"
      ]
    },
    {
      "cell_type": "code",
      "execution_count": null,
      "metadata": {
        "id": "RNuEZUsa_mzn"
      },
      "outputs": [],
      "source": [
        "arr = np.random.randn(7)"
      ]
    },
    {
      "cell_type": "code",
      "execution_count": null,
      "metadata": {
        "id": "rajKVroF_mzp",
        "outputId": "931a3aef-e780-44a7-e9cf-a099dd451486"
      },
      "outputs": [
        {
          "data": {
            "text/plain": [
              "array([-1.60470579, -1.14226592, -0.30457531,  0.83615738,  0.14625073,\n",
              "        0.34903602,  0.8361889 ])"
            ]
          },
          "execution_count": 43,
          "metadata": {},
          "output_type": "execute_result"
        }
      ],
      "source": [
        "arr"
      ]
    },
    {
      "cell_type": "code",
      "execution_count": null,
      "metadata": {
        "id": "WgquQxaQ_mzr",
        "outputId": "49cda3c4-47b8-40f9-8dd6-8116292ef261"
      },
      "outputs": [
        {
          "data": {
            "text/plain": [
              "array([2.57508066, 1.30477143, 0.09276612, 0.69915917, 0.02138927,\n",
              "       0.12182614, 0.69921188])"
            ]
          },
          "execution_count": 44,
          "metadata": {},
          "output_type": "execute_result"
        }
      ],
      "source": [
        "arr**2"
      ]
    },
    {
      "cell_type": "code",
      "execution_count": null,
      "metadata": {
        "id": "W_LeZCKx_mzs",
        "outputId": "15415a9b-777a-4c56-d6c7-0daecfa9394f"
      },
      "outputs": [
        {
          "data": {
            "text/plain": [
              "array([0.20094867, 0.31909516, 0.73743649, 2.30748315, 1.15748636,\n",
              "       1.41770025, 2.30755588])"
            ]
          },
          "execution_count": 45,
          "metadata": {},
          "output_type": "execute_result"
        }
      ],
      "source": [
        "np.exp(arr)"
      ]
    },
    {
      "cell_type": "code",
      "execution_count": null,
      "metadata": {
        "id": "ojXRvAKl_mzu"
      },
      "outputs": [],
      "source": [
        "arr2 = np.random.randn(7)"
      ]
    },
    {
      "cell_type": "code",
      "execution_count": null,
      "metadata": {
        "id": "bNXZQBvj_mzw",
        "outputId": "350ab6ef-8e98-4b22-a059-641ae66ae798"
      },
      "outputs": [
        {
          "data": {
            "text/plain": [
              "array([0.30303138, 0.35490166, 1.67340472, 0.2894084 , 1.86879959,\n",
              "       1.45077887, 0.34313057])"
            ]
          },
          "execution_count": 47,
          "metadata": {},
          "output_type": "execute_result"
        }
      ],
      "source": [
        "arr2"
      ]
    },
    {
      "cell_type": "code",
      "execution_count": null,
      "metadata": {
        "id": "x10Os8_S_mzy",
        "outputId": "2741c68c-217e-4c05-c531-598b71f0e51a"
      },
      "outputs": [
        {
          "data": {
            "text/plain": [
              "array([-1.30167441, -0.78736425,  1.36882941,  1.12556579,  2.01505031,\n",
              "        1.79981488,  1.17931948])"
            ]
          },
          "execution_count": 48,
          "metadata": {},
          "output_type": "execute_result"
        }
      ],
      "source": [
        "np.add(arr,arr2)"
      ]
    },
    {
      "cell_type": "code",
      "execution_count": null,
      "metadata": {
        "id": "u2mo-4rw_mz1",
        "outputId": "71a8ac27-94d2-4034-8c0e-a40cdb434d74"
      },
      "outputs": [
        {
          "data": {
            "text/plain": [
              "array([0.30303138, 0.35490166, 1.67340472, 0.83615738, 1.86879959,\n",
              "       1.45077887, 0.8361889 ])"
            ]
          },
          "execution_count": 49,
          "metadata": {},
          "output_type": "execute_result"
        }
      ],
      "source": [
        "np.maximum(arr,arr2)"
      ]
    },
    {
      "cell_type": "markdown",
      "metadata": {
        "id": "LECvKBGd_mz4"
      },
      "source": [
        "### Expressing Conditional Logic as Array Operations"
      ]
    },
    {
      "cell_type": "code",
      "execution_count": null,
      "metadata": {
        "id": "xQaPPY-8_mz6"
      },
      "outputs": [],
      "source": [
        "xarr = np.array([1.1, 1.2, 1.3, 1.4, 1.5])\n",
        "yarr = np.array([2.1, 2.2, 2.3, 2.4, 2.5])\n",
        "cond = np.array([True, False, True, True, False])"
      ]
    },
    {
      "cell_type": "markdown",
      "metadata": {
        "id": "8sWh_eEs_mz9"
      },
      "source": [
        "Take value of xarr if value in cond is true , otherwise take value from yarr "
      ]
    },
    {
      "cell_type": "code",
      "execution_count": null,
      "metadata": {
        "id": "POh6d_YK_mz_"
      },
      "outputs": [],
      "source": [
        "result = np.where(cond, xarr, yarr)"
      ]
    },
    {
      "cell_type": "code",
      "execution_count": null,
      "metadata": {
        "id": "kNtyj3J9_m0B",
        "outputId": "14dcac9f-a647-40ac-ccde-b9e73c5660e1"
      },
      "outputs": [
        {
          "data": {
            "text/plain": [
              "array([1.1, 2.2, 1.3, 1.4, 2.5])"
            ]
          },
          "execution_count": 52,
          "metadata": {},
          "output_type": "execute_result"
        }
      ],
      "source": [
        "result"
      ]
    },
    {
      "cell_type": "code",
      "execution_count": null,
      "metadata": {
        "id": "oazYx9YP_m0C"
      },
      "outputs": [],
      "source": [
        "arr = np.random.randn(4,4)"
      ]
    },
    {
      "cell_type": "code",
      "execution_count": null,
      "metadata": {
        "id": "NGv1gu0T_m0D",
        "outputId": "caab85b5-0239-4455-c4b7-4603ef94169b"
      },
      "outputs": [
        {
          "data": {
            "text/plain": [
              "array([[ 0.33725363,  0.22508101, -0.66999263, -0.97653947],\n",
              "       [ 1.47350739,  0.18521535,  0.88975974,  0.40656444],\n",
              "       [ 0.82253509,  0.58284077,  0.31703182,  0.70850216],\n",
              "       [ 1.32781019, -0.17069623,  1.29661437, -0.67526661]])"
            ]
          },
          "execution_count": 54,
          "metadata": {},
          "output_type": "execute_result"
        }
      ],
      "source": [
        "arr"
      ]
    },
    {
      "cell_type": "code",
      "execution_count": null,
      "metadata": {
        "id": "72wqy8sU_m0E",
        "outputId": "05f71b6e-f1f8-4bd3-d959-1340e7e8bf5d"
      },
      "outputs": [
        {
          "data": {
            "text/plain": [
              "array([[0.33725363, 0.22508101, 0.        , 0.        ],\n",
              "       [1.47350739, 0.18521535, 0.88975974, 0.40656444],\n",
              "       [0.82253509, 0.58284077, 0.31703182, 0.70850216],\n",
              "       [1.32781019, 0.        , 1.29661437, 0.        ]])"
            ]
          },
          "execution_count": 55,
          "metadata": {},
          "output_type": "execute_result"
        }
      ],
      "source": [
        "## second and third params of where may be integers or arrays \n",
        "np.where(arr <0 , 0 , arr)"
      ]
    },
    {
      "cell_type": "markdown",
      "metadata": {
        "id": "vrFcdIRR_m0I"
      },
      "source": [
        "### Mathematical and Statistical Methods"
      ]
    },
    {
      "cell_type": "markdown",
      "metadata": {
        "id": "amHfj2EQ_m0L"
      },
      "source": [
        "sum                Sum of all the elements in the array or along an axis. Zero-length arrays have sum 0.\n",
        "\n",
        "mean               Arithmetic mean. Zero-length arrays have NaN mean.\n",
        "\n",
        "std, var           Standard deviation and variance, respectively, with optional degrees of freedom adjustment\n",
        "                                                                                                (default denominator n).\n",
        "                \n",
        "min, max           Minimum and maximum.\n",
        "\n",
        "argmin, argmax      Indices of minimum and maximum elements, respectively.\n",
        "\n",
        "cumsum            Cumulative sum of elements starting from 0\n",
        "\n",
        "cumprod            Cumulative product of elements starting from 1"
      ]
    },
    {
      "cell_type": "code",
      "execution_count": null,
      "metadata": {
        "id": "nttEiRBN_m0P"
      },
      "outputs": [],
      "source": [
        "arr = np.random.randn(5, 4)"
      ]
    },
    {
      "cell_type": "code",
      "execution_count": null,
      "metadata": {
        "id": "XbcDkADc_m0R",
        "outputId": "90a843dc-0f2c-49da-9454-2cf004a30152"
      },
      "outputs": [
        {
          "data": {
            "text/plain": [
              "array([[-0.7868591 ,  0.69595031, -0.69368653, -1.075047  ],\n",
              "       [ 0.32386747,  1.04655946, -0.78829993,  0.82302134],\n",
              "       [ 0.40434557, -0.95262094, -0.29671203, -0.61624795],\n",
              "       [-2.30923   ,  2.22355961,  0.90344893,  0.07177197],\n",
              "       [-0.59698681, -1.36598993, -2.85764053,  1.77918819]])"
            ]
          },
          "execution_count": 57,
          "metadata": {},
          "output_type": "execute_result"
        }
      ],
      "source": [
        "arr"
      ]
    },
    {
      "cell_type": "code",
      "execution_count": null,
      "metadata": {
        "id": "6CuozhTv_m0T",
        "outputId": "67d56e26-e0ae-4dfd-b8f1-0c86c851787d"
      },
      "outputs": [
        {
          "data": {
            "text/plain": [
              "-4.06760787459139"
            ]
          },
          "execution_count": 58,
          "metadata": {},
          "output_type": "execute_result"
        }
      ],
      "source": [
        "arr.sum()"
      ]
    },
    {
      "cell_type": "code",
      "execution_count": null,
      "metadata": {
        "id": "zrqNcwXd_m0V",
        "outputId": "5af082b8-c749-445b-abde-e67ba64868b6"
      },
      "outputs": [
        {
          "data": {
            "text/plain": [
              "-0.2033803937295695"
            ]
          },
          "execution_count": 59,
          "metadata": {},
          "output_type": "execute_result"
        }
      ],
      "source": [
        "arr.mean()"
      ]
    },
    {
      "cell_type": "code",
      "execution_count": null,
      "metadata": {
        "id": "50kiMwkg_m0Y",
        "outputId": "0e1f70fa-644e-482f-c1bb-c4d2c8b84952"
      },
      "outputs": [
        {
          "data": {
            "text/plain": [
              "array([-0.46491058,  0.35128709, -0.36530884,  0.22238763, -0.76035727])"
            ]
          },
          "execution_count": 60,
          "metadata": {},
          "output_type": "execute_result"
        }
      ],
      "source": [
        "# mean across rows \n",
        "arr.mean(axis = 1)"
      ]
    },
    {
      "cell_type": "code",
      "execution_count": null,
      "metadata": {
        "id": "vpP1aYu3_m0a",
        "outputId": "0d246bdc-7443-4d01-ee01-5c22acfde71e"
      },
      "outputs": [
        {
          "data": {
            "text/plain": [
              "array([-0.59297257,  0.3294917 , -0.74657802,  0.19653731])"
            ]
          },
          "execution_count": 61,
          "metadata": {},
          "output_type": "execute_result"
        }
      ],
      "source": [
        "## mean across columns \n",
        "arr.mean(axis = 0)"
      ]
    },
    {
      "cell_type": "markdown",
      "metadata": {
        "id": "sGMHs0rB_m0c"
      },
      "source": [
        "### Linear Algebra\n",
        "\n",
        "Linear algebra, like matrix multiplication, decompositions, determinants, and other\n",
        "square matrix math, is an important part of any array library. Unlike some languages\n",
        "like MATLAB, multiplying two two-dimensional arrays with * is an element-wise\n",
        "product instead of a matrix dot product. \n",
        "\n",
        "As such, there is a function dot, both an array\n",
        "method, and a function in the numpy namespace, for matrix multiplication"
      ]
    },
    {
      "cell_type": "markdown",
      "metadata": {
        "id": "A3fHbV3E_m0f"
      },
      "source": [
        "Function         Description\n",
        "diag             Return the diagonal (or off-diagonal) elements of a square matrix as a 1D array, or convert a 1D array into a                   square matrix with zeros on the off-diagonal\n",
        "\n",
        "dot               Matrix multiplication\n",
        "\n",
        "trace            Compute the sum of the diagonal elements\n",
        "\n",
        "det             Compute the matrix determinant\n",
        "\n",
        "eig             Compute the eigenvalues and eigenvectors of a square matrix\n",
        "\n",
        "inv              Compute the inverse of a square matrix\n",
        "\n",
        "pinv            Compute the Moore-Penrose pseudo-inverse inverse of a square matrix\n",
        "\n",
        "qr             Compute the QR decomposition\n",
        "\n",
        "svd             Compute the singular value decomposition (SVD)\n",
        "\n",
        "solve            Solve the linear system Ax = b for x, where A is a square matrix\n",
        "\n",
        "lstsq            Compute the least-squares solution to y = Xb"
      ]
    },
    {
      "cell_type": "code",
      "execution_count": null,
      "metadata": {
        "id": "6gTkfvOs_m0h"
      },
      "outputs": [],
      "source": [
        "from numpy.linalg import inv "
      ]
    },
    {
      "cell_type": "code",
      "execution_count": null,
      "metadata": {
        "id": "Q0wFrsg__m0i"
      },
      "outputs": [],
      "source": [
        "mylist = [[1,3],[4,6],[5,3]]\n",
        "arr = np.array(mylist)"
      ]
    },
    {
      "cell_type": "code",
      "execution_count": null,
      "metadata": {
        "id": "A3GUP2S7_m0j",
        "outputId": "a594e08c-482a-4ec0-9db9-ed7fb845668b"
      },
      "outputs": [
        {
          "data": {
            "text/plain": [
              "array([[1, 3],\n",
              "       [4, 6],\n",
              "       [5, 3]])"
            ]
          },
          "execution_count": 66,
          "metadata": {},
          "output_type": "execute_result"
        }
      ],
      "source": [
        "arr"
      ]
    },
    {
      "cell_type": "code",
      "execution_count": null,
      "metadata": {
        "id": "zIhvj0Cq_m0k"
      },
      "outputs": [],
      "source": [
        "arr2 = np.array([[2,3],[4,0]])"
      ]
    },
    {
      "cell_type": "code",
      "execution_count": null,
      "metadata": {
        "id": "1LPWQpDM_m0n",
        "outputId": "099d8f17-abc4-4c68-cbce-2a80607d0522"
      },
      "outputs": [
        {
          "data": {
            "text/plain": [
              "array([[2, 3],\n",
              "       [4, 0]])"
            ]
          },
          "execution_count": 69,
          "metadata": {},
          "output_type": "execute_result"
        }
      ],
      "source": [
        "arr2"
      ]
    },
    {
      "cell_type": "code",
      "execution_count": null,
      "metadata": {
        "id": "71ATT18s_m0o"
      },
      "outputs": [],
      "source": [
        "## muliply two array with suitable dimensions \n",
        "array_mul = np.dot(arr,arr2)"
      ]
    },
    {
      "cell_type": "code",
      "execution_count": null,
      "metadata": {
        "id": "n-O_qsFr_m0q",
        "outputId": "3dbe5e6b-8088-44b6-fc5d-c5c7c02caa7b"
      },
      "outputs": [
        {
          "data": {
            "text/plain": [
              "array([[14,  3],\n",
              "       [32, 12],\n",
              "       [22, 15]])"
            ]
          },
          "execution_count": 74,
          "metadata": {},
          "output_type": "execute_result"
        }
      ],
      "source": [
        "array_mul"
      ]
    },
    {
      "cell_type": "code",
      "execution_count": null,
      "metadata": {
        "id": "NxG2BYZq_m0r",
        "outputId": "787cd815-ed36-453d-9071-c4b593362a1e"
      },
      "outputs": [
        {
          "data": {
            "text/plain": [
              "26"
            ]
          },
          "execution_count": 78,
          "metadata": {},
          "output_type": "execute_result"
        }
      ],
      "source": [
        "np.trace(array_mul)"
      ]
    },
    {
      "cell_type": "markdown",
      "metadata": {
        "id": "f_ZirrOT_m0u"
      },
      "source": [
        "### Random Number Generation"
      ]
    },
    {
      "cell_type": "markdown",
      "metadata": {
        "id": "lwzomf-K_m0w"
      },
      "source": [
        "seed             Seed the random number generator\n",
        "\n",
        "permutation      Return a random permutation of a sequence, or return a permuted range\n",
        "\n",
        "shuffle           Randomly permute a sequence in place\n",
        "\n",
        "rand             Draw samples from a uniform distribution\n",
        "\n",
        "randint          Draw random integers from a given low-to-high range\n",
        "\n",
        "randn            Draw samples from a normal distribution with mean 0 and standard deviation 1 (MATLAB-like interface)\n",
        "\n",
        "binomial         Draw samples a binomial distribution\n",
        "\n",
        "normal          Draw samples from a normal (Gaussian) distribution\n",
        "\n",
        "beta            Draw samples from a beta distribution\n",
        "\n",
        "chisquare          Draw samples from a chi-square distribution\n",
        "\n",
        "gamma           Draw samples from a gamma distribution\n",
        "\n",
        "uniform         Draw samples from a uniform [0, 1) distributiona\n",
        "\n",
        "arange         Return evenly spaced values within a given interval.\n",
        "\n",
        "linspace       Return evenly spaced numbers over a specified interval.\n",
        "\n",
        "logspace       Return numbers spaced evenly on a log scale."
      ]
    },
    {
      "cell_type": "code",
      "execution_count": null,
      "metadata": {
        "id": "0vXXeMBi_m0z",
        "outputId": "9a869381-9123-4e96-83f6-aeead426cb9b"
      },
      "outputs": [
        {
          "data": {
            "text/plain": [
              "array([[0.15304759, 0.95796038, 0.27016114, 0.94731451],\n",
              "       [0.74674344, 0.17114906, 0.75037415, 0.27594856],\n",
              "       [0.77971678, 0.27761905, 0.27346171, 0.26887644]])"
            ]
          },
          "execution_count": 80,
          "metadata": {},
          "output_type": "execute_result"
        }
      ],
      "source": [
        "np.random.rand(3,4)"
      ]
    },
    {
      "cell_type": "code",
      "execution_count": null,
      "metadata": {
        "id": "v5JowRWY_m02",
        "outputId": "00ca6c4a-510e-4fbd-837c-978df8fb8f42"
      },
      "outputs": [
        {
          "data": {
            "text/plain": [
              "array([2, 3, 4, 5, 6, 7, 8, 9])"
            ]
          },
          "execution_count": 82,
          "metadata": {},
          "output_type": "execute_result"
        }
      ],
      "source": [
        "## pass start ,stop and step ( step by default = 1 )\n",
        "np.arange(2 ,10 )"
      ]
    },
    {
      "cell_type": "code",
      "execution_count": null,
      "metadata": {
        "id": "qXnbtBqb_m05",
        "outputId": "d3e76613-6726-44c5-8d74-f32202bb0129"
      },
      "outputs": [
        {
          "data": {
            "text/plain": [
              "array([ 3.        ,  3.37931034,  3.75862069,  4.13793103,  4.51724138,\n",
              "        4.89655172,  5.27586207,  5.65517241,  6.03448276,  6.4137931 ,\n",
              "        6.79310345,  7.17241379,  7.55172414,  7.93103448,  8.31034483,\n",
              "        8.68965517,  9.06896552,  9.44827586,  9.82758621, 10.20689655,\n",
              "       10.5862069 , 10.96551724, 11.34482759, 11.72413793, 12.10344828,\n",
              "       12.48275862, 12.86206897, 13.24137931, 13.62068966, 14.        ])"
            ]
          },
          "execution_count": 84,
          "metadata": {},
          "output_type": "execute_result"
        }
      ],
      "source": [
        "## pass start ,stoop and number of points and you will get array of equally spaced points with the specified number \n",
        "np.linspace(3,14 ,num =30)"
      ]
    },
    {
      "cell_type": "code",
      "execution_count": null,
      "metadata": {
        "id": "MGw5Loa4_m07"
      },
      "outputs": [],
      "source": []
    }
  ],
  "metadata": {
    "kernelspec": {
      "display_name": "Python 3",
      "language": "python",
      "name": "python3"
    },
    "language_info": {
      "codemirror_mode": {
        "name": "ipython",
        "version": 3
      },
      "file_extension": ".py",
      "mimetype": "text/x-python",
      "name": "python",
      "nbconvert_exporter": "python",
      "pygments_lexer": "ipython3",
      "version": "3.8.5"
    },
    "colab": {
      "provenance": []
    }
  },
  "nbformat": 4,
  "nbformat_minor": 0
}